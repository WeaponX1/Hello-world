{
  "nbformat": 4,
  "nbformat_minor": 0,
  "metadata": {
    "colab": {
      "name": "Untitled0.ipynb",
      "provenance": [],
      "collapsed_sections": [],
      "authorship_tag": "ABX9TyMc/3JB5+GLBl1kRuXAXgRI",
      "include_colab_link": true
    },
    "kernelspec": {
      "name": "python3",
      "display_name": "Python 3"
    },
    "language_info": {
      "name": "python"
    }
  },
  "cells": [
    {
      "cell_type": "markdown",
      "metadata": {
        "id": "view-in-github",
        "colab_type": "text"
      },
      "source": [
        "<a href=\"https://colab.research.google.com/github/WeaponX1/Hello-world/blob/master/Untitled0.ipynb\" target=\"_parent\"><img src=\"https://colab.research.google.com/assets/colab-badge.svg\" alt=\"Open In Colab\"/></a>"
      ]
    },
    {
      "cell_type": "code",
      "execution_count": 2,
      "metadata": {
        "id": "7BVnD1zWU45f",
        "colab": {
          "base_uri": "https://localhost:8080/",
          "height": 237
        },
        "outputId": "06282a15-b139-49c8-fbc1-163ee2a63313"
      },
      "outputs": [
        {
          "output_type": "error",
          "ename": "FileNotFoundError",
          "evalue": "ignored",
          "traceback": [
            "\u001b[0;31m---------------------------------------------------------------------------\u001b[0m",
            "\u001b[0;31mFileNotFoundError\u001b[0m                         Traceback (most recent call last)",
            "\u001b[0;32m<ipython-input-2-37fe367c45ec>\u001b[0m in \u001b[0;36m<module>\u001b[0;34m()\u001b[0m\n\u001b[1;32m      6\u001b[0m \u001b[0;34m\u001b[0m\u001b[0m\n\u001b[1;32m      7\u001b[0m \u001b[0;31m# Importing and reading the corpus (search wikipedia 'data sciences' and dump to file)\u001b[0m\u001b[0;34m\u001b[0m\u001b[0;34m\u001b[0m\u001b[0;34m\u001b[0m\u001b[0m\n\u001b[0;32m----> 8\u001b[0;31m \u001b[0mf\u001b[0m\u001b[0;34m=\u001b[0m\u001b[0mopen\u001b[0m\u001b[0;34m(\u001b[0m\u001b[0;34m'chatbox.txt'\u001b[0m\u001b[0;34m,\u001b[0m \u001b[0;34m'r'\u001b[0m\u001b[0;34m,\u001b[0m \u001b[0merrors\u001b[0m\u001b[0;34m=\u001b[0m\u001b[0;34m'ignore'\u001b[0m\u001b[0;34m)\u001b[0m\u001b[0;34m\u001b[0m\u001b[0;34m\u001b[0m\u001b[0m\n\u001b[0m\u001b[1;32m      9\u001b[0m \u001b[0mraw_doc\u001b[0m\u001b[0;34m=\u001b[0m\u001b[0mf\u001b[0m\u001b[0;34m.\u001b[0m\u001b[0mread\u001b[0m\u001b[0;34m(\u001b[0m\u001b[0;34m)\u001b[0m\u001b[0;34m\u001b[0m\u001b[0;34m\u001b[0m\u001b[0m\n\u001b[1;32m     10\u001b[0m \u001b[0mraw_doc\u001b[0m\u001b[0;34m=\u001b[0m\u001b[0mraw_doc\u001b[0m\u001b[0;34m.\u001b[0m\u001b[0mlower\u001b[0m\u001b[0;34m(\u001b[0m\u001b[0;34m)\u001b[0m                         \u001b[0;31m# Converts text to lowercase\u001b[0m\u001b[0;34m\u001b[0m\u001b[0;34m\u001b[0m\u001b[0m\n",
            "\u001b[0;31mFileNotFoundError\u001b[0m: [Errno 2] No such file or directory: 'chatbox.txt'"
          ]
        }
      ],
      "source": [
        "# Import required libraries\n",
        "import numpy as np\n",
        "import nltk\n",
        "import string\n",
        "import random\n",
        "\n",
        "# Importing and reading the corpus (search wikipedia 'data sciences' and dump to file)\n",
        "f=open('chatbox.txt', 'r', errors='ignore')\n",
        "raw_doc=f.read()\n",
        "raw_doc=raw_doc.lower()                         # Converts text to lowercase\n",
        "nltk.download('punkt')                          # Using the Punkt tokenizer\n",
        "nltk.download('wordnet')                        # Using the WordNet dictionary\n",
        "sent_tokens = nltk.sent_tokenize(raw_doc)       # Coverts doc to list of setences\n",
        "word_tokens = nltk.word_tokenize(raw_doc)       # Converts doc to list of words\n",
        "\n",
        "# Text preprocessing\n",
        "lemmer = nltk.stem.WordNetLemmatizer()          # WordNet is semantically-oriented dictionary of English included in NLTK\n",
        "\n",
        "def LemTokens(tokens):\n",
        "    return [lemmer.lemmatize(token) for token in tokens]\n",
        "remove_punct_dict = dict((ord(punct), None) for punct in string.punctuation)\n",
        "\n",
        "def LemNormalize(text):\n",
        "    return LemTokens(nltk.word_tokenzie(text.lower().translate(remove_punct_dict)))\n",
        "\n",
        "# Defining greeting function\n",
        "GREET_INPUTS = (\"hello\", \"hi\", \"greetings\", \"sup\", \"what's up\", \"hey\",)\n",
        "GREET_RESPONSES = [\"hi\", \"hey\", \"*nods*\", \"hi there\", \"hello\", \"I am glad! you are talking to me\"]\n",
        "\n",
        "def greet(sentence):\n",
        "    for word in sentence.split():\n",
        "        if word.lower() in GREET.INPUTS:\n",
        "            return random.choice(GREET_RESPONSES)\n",
        "\n",
        "# Response generation\n",
        "def response(user_response):\n",
        "    robo1_response=''\n",
        "    TfidfVec = TfidfVectorizer(tokenizer=LemNormalize, stop_words='english')\n",
        "    tfidf = TfidfVec.fit_transform(sent_tokens)\n",
        "    vals = cosine_similarity(tfidf[-1], tfidf)\n",
        "    idx=vals.argsort()[0][-2]\n",
        "    flat = vals.flatten()\n",
        "    flat.sort()\n",
        "    req_tfidf = flat[-2]\n",
        "    if(req_tfid==0):\n",
        "        robo1_response=robo1_response+\"I am sorry! I don't understand you\"\n",
        "        return robo1_response\n",
        "    else:\n",
        "      robo1_response = robo1_response+sent_tokens[idx]\n",
        "      return robo1_response\n",
        "\n",
        "# Defining conversatoni start/end protocols\n",
        "flag = True\n",
        "print(\"BOT: My name is Stark. Let's have a conversation! Also, if you want to exist any time, just type Bye!\")\n",
        "\n",
        "while(flag==True):\n",
        "    user_response = input()\n",
        "    user_response = user_response.lower()\n",
        "    if(user_response!='bye'):\n",
        "        if(user_response=='thanks' or user_response=='thank you'):\n",
        "            flag=False\n",
        "            print(\"BOT: You are welcome...\")\n",
        "        else:\n",
        "           sent_tokens.append(user_response)\n",
        "           word_tokens=word_tokens+nltk.word_tokenize(user_response)\n",
        "           final_words=list(set(word_tokens))\n",
        "           print(\"BOT: \",end=\"\")\n",
        "           print(response(user_response))\n",
        "           sent_tokens.remove(user_response)\n",
        "    else:\n",
        "        flag=False\n",
        "        print(\"BOT: Goodbye! Take care <3\")"
      ]
    },
    {
      "cell_type": "markdown",
      "source": [
        "# New Section"
      ],
      "metadata": {
        "id": "Oq4rLTkKWxfA"
      }
    },
    {
      "cell_type": "code",
      "source": [
        "from google.colab import drive\n",
        "drive.mount('/content/drive')"
      ],
      "metadata": {
        "id": "eG21Nos7XdEo"
      },
      "execution_count": null,
      "outputs": []
    },
    {
      "cell_type": "markdown",
      "source": [
        ""
      ],
      "metadata": {
        "id": "Q8rCZ3DBWTlh"
      }
    }
  ]
}